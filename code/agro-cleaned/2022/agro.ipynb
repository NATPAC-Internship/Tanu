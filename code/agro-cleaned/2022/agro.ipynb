{
 "cells": [
  {
   "cell_type": "code",
   "execution_count": 8,
   "metadata": {},
   "outputs": [],
   "source": [
    "import pandas as pd\n",
    "import numpy as np\n",
    "sheet_name = '2022'\n",
    "df = pd.read_csv(r'agro_exports_2022.csv')"
   ]
  },
  {
   "cell_type": "code",
   "execution_count": 9,
   "metadata": {},
   "outputs": [
    {
     "name": "stdout",
     "output_type": "stream",
     "text": [
      "Sail Date.    object\n",
      "QTY.(KGS)      int64\n",
      "dtype: object\n"
     ]
    }
   ],
   "source": [
    "print(df.dtypes)"
   ]
  },
  {
   "cell_type": "code",
   "execution_count": 10,
   "metadata": {},
   "outputs": [],
   "source": [
    "df.head()\n",
    "df['Sail Date.']=pd.to_datetime(df['Sail Date.'])"
   ]
  },
  {
   "cell_type": "code",
   "execution_count": 11,
   "metadata": {},
   "outputs": [],
   "source": [
    "df.sort_values(by='Sail Date.', inplace=True)\n"
   ]
  },
  {
   "cell_type": "code",
   "execution_count": 12,
   "metadata": {},
   "outputs": [],
   "source": [
    "duplicates = df.groupby(['Sail Date.', 'QTY.(KGS)']).size().reset_index(name='Count')\n",
    "\n",
    "duplicates = duplicates[duplicates['Count'] > 1]\n",
    "\n",
    "for date, group in duplicates.groupby('Sail Date.'):\n",
    "    print(\"Duplicates for Date:\", date.strftime('%Y-%m-%d'))\n",
    "    for index, row in group.iterrows():\n",
    "        print(\"Quantity:\", row['QTY.(KGS)'], \"- Duplicated\", row['Count'], \"times\")\n",
    "    print()\n"
   ]
  },
  {
   "cell_type": "code",
   "execution_count": 13,
   "metadata": {},
   "outputs": [],
   "source": [
    "cleaned_df = df.drop_duplicates(subset=['Sail Date.', 'QTY.(KGS)'])\n",
    "\n",
    "summed_data = cleaned_df.groupby('Sail Date.')['QTY.(KGS)'].sum().reset_index()\n",
    "\n",
    "summed_data.to_csv('cleaned_agro_2022.csv', index=False)\n",
    "\n"
   ]
  },
  {
   "cell_type": "code",
   "execution_count": null,
   "metadata": {},
   "outputs": [],
   "source": []
  }
 ],
 "metadata": {
  "kernelspec": {
   "display_name": "Python 3",
   "language": "python",
   "name": "python3"
  },
  "language_info": {
   "codemirror_mode": {
    "name": "ipython",
    "version": 3
   },
   "file_extension": ".py",
   "mimetype": "text/x-python",
   "name": "python",
   "nbconvert_exporter": "python",
   "pygments_lexer": "ipython3",
   "version": "3.11.5"
  }
 },
 "nbformat": 4,
 "nbformat_minor": 2
}
