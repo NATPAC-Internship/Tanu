{
 "cells": [
  {
   "cell_type": "code",
   "execution_count": 6,
   "metadata": {},
   "outputs": [],
   "source": [
    "import numpy as np\n",
    "import pandas as pd\n",
    "import matplotlib.pyplot as plt\n",
    "%matplotlib inline\n",
    "from statsmodels.tsa.stattools import kpss"
   ]
  },
  {
   "cell_type": "code",
   "execution_count": 7,
   "metadata": {},
   "outputs": [],
   "source": [
    "df=pd.read_csv('../combined.csv')"
   ]
  },
  {
   "cell_type": "code",
   "execution_count": 8,
   "metadata": {},
   "outputs": [
    {
     "name": "stdout",
     "output_type": "stream",
     "text": [
      "Dataset has 1338 records and 2 columns\n"
     ]
    }
   ],
   "source": [
    "df.shape\n",
    "print(\"Dataset has {} records and {} columns\".format(df.shape[0], df.shape[1]))"
   ]
  },
  {
   "cell_type": "code",
   "execution_count": 11,
   "metadata": {},
   "outputs": [],
   "source": [
    "df['Sail Date'] = pd.to_datetime(df['Sail Date.'])"
   ]
  },
  {
   "cell_type": "code",
   "execution_count": 14,
   "metadata": {},
   "outputs": [
    {
     "name": "stdout",
     "output_type": "stream",
     "text": [
      "KPSS test for QTY.(KGS) column:\n",
      "KPSS Statistic: 0.8391107074787985\n",
      "P-value: 0.01\n",
      "Critical Values:\n",
      "   10%: 0.347\n",
      "   5%: 0.463\n",
      "   2.5%: 0.574\n",
      "   1%: 0.739\n",
      "Conclusion: Non-Stationary\n"
     ]
    },
    {
     "name": "stderr",
     "output_type": "stream",
     "text": [
      "C:\\Users\\TANU SHREE\\AppData\\Local\\Temp\\ipykernel_40144\\938829774.py:13: InterpolationWarning: The test statistic is outside of the range of p-values available in the\n",
      "look-up table. The actual p-value is smaller than the p-value returned.\n",
      "\n",
      "  statistic, p_value, lags, critical_values = kpss(df['QTY.(KGS)'])\n"
     ]
    }
   ],
   "source": [
    "import pandas as pd\n",
    "from statsmodels.tsa.stattools import kpss\n",
    "\n",
    "df['Sail Date'] = pd.to_datetime(df['Sail Date.'])\n",
    "\n",
    "df.set_index('Sail Date', inplace=True)\n",
    "\n",
    "print(\"KPSS test for QTY.(KGS) column:\")\n",
    "statistic, p_value, lags, critical_values = kpss(df['QTY.(KGS)'])\n",
    "print(f\"KPSS Statistic: {statistic}\")\n",
    "print(f\"P-value: {p_value}\")\n",
    "print(f\"Critical Values:\")\n",
    "for key, value in critical_values.items():\n",
    "    print(f\"   {key}: {value}\")\n",
    "print(f\"Conclusion: {'Non-Stationary' if p_value < 0.05 else 'Stationary'}\")\n"
   ]
  },
  {
   "cell_type": "code",
   "execution_count": null,
   "metadata": {},
   "outputs": [],
   "source": []
  }
 ],
 "metadata": {
  "kernelspec": {
   "display_name": "Python 3",
   "language": "python",
   "name": "python3"
  },
  "language_info": {
   "codemirror_mode": {
    "name": "ipython",
    "version": 3
   },
   "file_extension": ".py",
   "mimetype": "text/x-python",
   "name": "python",
   "nbconvert_exporter": "python",
   "pygments_lexer": "ipython3",
   "version": "3.11.5"
  }
 },
 "nbformat": 4,
 "nbformat_minor": 2
}
