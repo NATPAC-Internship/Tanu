{
 "cells": [
  {
   "cell_type": "code",
   "execution_count": 9,
   "metadata": {},
   "outputs": [
    {
     "name": "stdout",
     "output_type": "stream",
     "text": [
      "Combined CSV file created successfully.\n"
     ]
    }
   ],
   "source": [
    "import pandas as pd\n",
    "\n",
    "file_paths = [\n",
    "    \"./agro-cleaned/2018/cleaned_agro_2018.csv\",\n",
    "    \"./agro-cleaned/2019/cleaned_agro_2019.csv\",\n",
    "    \"./agro-cleaned/2020/cleaned_agro_2020.csv\",\n",
    "    \"./agro-cleaned/2021/cleaned_agro_2021.csv\",\n",
    "    \"./agro-cleaned/2022/cleaned_agro_2022.csv\"\n",
    "]\n",
    "\n",
    "dfs = []\n",
    "\n",
    "for file_path in file_paths:\n",
    "    df = pd.read_csv(file_path)\n",
    "    dfs.append(df)\n",
    "\n",
    "combined_df = pd.concat(dfs, ignore_index=True)\n",
    "\n",
    "combined_df.to_csv(\"combined.csv\", index=False)\n",
    "\n",
    "print(\"Combined CSV file created successfully.\")\n"
   ]
  },
  {
   "cell_type": "code",
   "execution_count": 10,
   "metadata": {},
   "outputs": [
    {
     "name": "stdout",
     "output_type": "stream",
     "text": [
      "      Sail Date.  QTY.(KGS)\n",
      "0     2018-01-01     257733\n",
      "1     2018-01-04     577207\n",
      "2     2018-01-05    1322201\n",
      "3     2018-01-06    1652038\n",
      "4     2018-01-07    1548883\n",
      "...          ...        ...\n",
      "1333  2022-12-27    1029546\n",
      "1334  2022-12-28     971387\n",
      "1335  2022-12-29     231274\n",
      "1336  2022-12-30     358590\n",
      "1337  2022-12-31    1020553\n",
      "\n",
      "[1338 rows x 2 columns]\n"
     ]
    }
   ],
   "source": [
    "\n",
    "combined_df=pd.read_csv(\"combined.csv\")\n",
    "print(combined_df)"
   ]
  },
  {
   "cell_type": "code",
   "execution_count": null,
   "metadata": {},
   "outputs": [],
   "source": []
  }
 ],
 "metadata": {
  "kernelspec": {
   "display_name": "Python 3",
   "language": "python",
   "name": "python3"
  },
  "language_info": {
   "codemirror_mode": {
    "name": "ipython",
    "version": 3
   },
   "file_extension": ".py",
   "mimetype": "text/x-python",
   "name": "python",
   "nbconvert_exporter": "python",
   "pygments_lexer": "ipython3",
   "version": "3.11.5"
  }
 },
 "nbformat": 4,
 "nbformat_minor": 2
}
