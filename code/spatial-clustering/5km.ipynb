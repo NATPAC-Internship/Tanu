{
 "cells": [
  {
   "cell_type": "code",
   "execution_count": 1,
   "metadata": {},
   "outputs": [
    {
     "name": "stdout",
     "output_type": "stream",
     "text": [
      "Map saved: exporters_map_5km_Kottapuram.html\n",
      "Map saved: exporters_map_5km_Aluva.html\n",
      "Map saved: exporters_map_5km_CEPZ_(Kakkanadu).html\n",
      "Map saved: exporters_map_5km_Maradu.html\n",
      "Map saved: exporters_map_5km_Vaikkom.html\n",
      "Map saved: exporters_map_5km_Thannermukkom.html\n",
      "Map saved: exporters_map_5km_Alappuzha.html\n",
      "Map saved: exporters_map_5km_Thrikunnappuzha.html\n",
      "Map saved: exporters_map_5km_Kayamkulam_(Ayiramthengu).html\n",
      "Map saved: exporters_map_5km_Chavara.html\n",
      "Map saved: exporters_map_5km_Kollam.html\n",
      "Map saved: exporters_map_5km_Bolgatty_Island_(CoPT_land-on_lease).html\n",
      "Map saved: exporters_map_5km_Willingdon_Island_(CoPT_land-on_lease).html\n"
     ]
    }
   ],
   "source": [
    "import pandas as pd\n",
    "import folium\n",
    "from haversine import haversine\n",
    "\n",
    "exporters_df = pd.read_csv(\"./../../dataset/district/district.csv\")\n",
    "exporters_df = exporters_df.dropna(subset=['Latitude', 'Longitude'])\n",
    "terminal_locations_df = pd.read_csv(\"./../../dataset/district/terminal_locations.csv\")\n",
    "\n",
    "# Terminal colors for plotting\n",
    "terminal_colors = {\n",
    "    'Kottapuram': 'red',\n",
    "    'Aluva': 'blue',\n",
    "    'CEPZ (Kakkanadu)': 'blue',\n",
    "    'Maradu': 'blue',\n",
    "    'Vaikkom': 'yellow',\n",
    "    'Thannermukkom': 'yellow',\n",
    "    'Alappuzha': 'green',\n",
    "    'Thrikunnappuzha': 'green',\n",
    "    'Kayamkulam (Ayiramthengu)': 'magenta',\n",
    "    'Chavara': 'magenta',\n",
    "    'Kollam': 'magenta',\n",
    "    'Bolgatty Island (CoPT land-on lease)': 'blue',\n",
    "    'Willingdon Island (CoPT land-on lease)': 'blue'\n",
    "}\n",
    "\n",
    "# map for each terminal with exporters within a 5 km radius\n",
    "def create_terminal_map(terminal_row):\n",
    "    terminal_name = terminal_row['Terminal']\n",
    "    terminal_location = (terminal_row['Latitude'], terminal_row['Longitude'])\n",
    "    terminal_color = terminal_colors.get(terminal_name, 'black')\n",
    "    \n",
    "    terminal_map = folium.Map(location=terminal_location, zoom_start=12)\n",
    "\n",
    "    folium.Marker(location=terminal_location, popup=terminal_name, icon=folium.Icon(color='black')).add_to(terminal_map)\n",
    "\n",
    "    nearby_exporters = exporters_df.apply(\n",
    "        lambda row: haversine(terminal_location, (row['Latitude'], row['Longitude'])) <= 5, axis=1\n",
    "    )\n",
    "    filtered_exporters = exporters_df[nearby_exporters]\n",
    "    \n",
    "    # Add exporters to the map\n",
    "    for _, exporter in filtered_exporters.iterrows():\n",
    "        folium.CircleMarker(\n",
    "            location=[exporter['Latitude'], exporter['Longitude']],\n",
    "            radius=5,\n",
    "            color=terminal_color,\n",
    "            fill=True,\n",
    "            fill_color=terminal_color\n",
    "        ).add_to(terminal_map)\n",
    "    \n",
    "    filename = f\"exporters_map_5km_{terminal_name.replace(' ', '_')}.html\"\n",
    "    terminal_map.save(filename)\n",
    "    print(f\"Map saved: {filename}\")\n",
    "\n",
    "for _, terminal_row in terminal_locations_df.iterrows():\n",
    "    create_terminal_map(terminal_row)\n"
   ]
  },
  {
   "cell_type": "code",
   "execution_count": null,
   "metadata": {},
   "outputs": [],
   "source": []
  }
 ],
 "metadata": {
  "kernelspec": {
   "display_name": "Python 3",
   "language": "python",
   "name": "python3"
  },
  "language_info": {
   "codemirror_mode": {
    "name": "ipython",
    "version": 3
   },
   "file_extension": ".py",
   "mimetype": "text/x-python",
   "name": "python",
   "nbconvert_exporter": "python",
   "pygments_lexer": "ipython3",
   "version": "3.11.5"
  }
 },
 "nbformat": 4,
 "nbformat_minor": 2
}
