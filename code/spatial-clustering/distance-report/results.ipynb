{
 "cells": [
  {
   "cell_type": "code",
   "execution_count": 16,
   "metadata": {},
   "outputs": [],
   "source": [
    "import pandas as pd\n",
    "from geopy.distance import geodesic\n",
    "\n",
    "exporter_data = pd.read_csv('./../../../dataset/district/merged_district_with_names.csv')\n",
    "terminal_locations = pd.read_csv('./../../../dataset/district/terminal_locations.csv')\n",
    "\n",
    "cochin_port = (9.9575, 76.2711)  # Latitude, Longitude of Cochin port\n",
    "\n",
    "# Function to calculate distance between two points\n",
    "def calculate_distance(row):\n",
    "    exporter_location = (row['Latitude'], row['Longitude'])\n",
    "    return geodesic(cochin_port, exporter_location).kilometers\n",
    "\n",
    "# Calculate distance from Cochin port\n",
    "exporter_data['Distance from Cochin port'] = exporter_data.apply(calculate_distance, axis=1)\n",
    "\n",
    "# Function to find closest terminal\n",
    "def find_closest_terminal(row):\n",
    "    exporter_location = (row['Latitude'], row['Longitude'])\n",
    "    distances = terminal_locations.apply(lambda x: geodesic((x['Latitude'], x['Longitude']), exporter_location).kilometers, axis=1)\n",
    "    closest_terminal_index = distances.idxmin()\n",
    "    closest_terminal = terminal_locations.loc[closest_terminal_index]\n",
    "    return closest_terminal['Terminal'], distances[closest_terminal_index]\n",
    "\n",
    "# Find closest terminal for each exporter\n",
    "exporter_data['Name of the closest terminal'], exporter_data['Distance from NW3 closest terminal'] = zip(*exporter_data.apply(find_closest_terminal, axis=1))\n",
    "\n",
    "new_dataset = exporter_data[['Name', 'Distance from Cochin port', 'Distance from NW3 closest terminal', 'Name of the closest terminal']]\n",
    "\n",
    "\n",
    "new_dataset.to_csv('results.csv', index=False)\n"
   ]
  },
  {
   "cell_type": "code",
   "execution_count": null,
   "metadata": {},
   "outputs": [],
   "source": []
  }
 ],
 "metadata": {
  "kernelspec": {
   "display_name": "Python 3",
   "language": "python",
   "name": "python3"
  },
  "language_info": {
   "codemirror_mode": {
    "name": "ipython",
    "version": 3
   },
   "file_extension": ".py",
   "mimetype": "text/x-python",
   "name": "python",
   "nbconvert_exporter": "python",
   "pygments_lexer": "ipython3",
   "version": "3.11.5"
  }
 },
 "nbformat": 4,
 "nbformat_minor": 2
}
