{
 "cells": [
  {
   "cell_type": "code",
   "execution_count": 22,
   "metadata": {},
   "outputs": [
    {
     "name": "stdout",
     "output_type": "stream",
     "text": [
      "                  Name                                            Address  \\\n",
      "0             A.A.NUTS  WJMW+7F7, Chandanathope, Mamoodu, Kerala 14, I...   \n",
      "1        A.M.FISHERIES  98WW+WWQ, Valanjavazhy, Ambalapuzha, Kerala 68...   \n",
      "2    AARGEE ASSOCIATES  MINI INDUSTRIAL ESTATE, PLOT NO .5, near POLIC...   \n",
      "3       ABAD FISHERIES  Kochangadi, Chullickal, Kochi, Kerala 682002, ...   \n",
      "4  ABM MARINE PRODUCTS  19/2084-E, Nambiapuram Rd, Palluruthy, Kochi, ...   \n",
      "\n",
      "   pincode         Taluk Districtname statename  Latitude  Longitude  \n",
      "0   686012      Kottayam     Kottayam    KERALA  9.548567  76.522308  \n",
      "1   688005  Ambalappuzha    Alappuzha    KERALA  9.407684  76.351707  \n",
      "2   686019      Kottayam     Kottayam    KERALA  9.592533  76.582306  \n",
      "3   682002         Kochi    Ernakulam    KERALA  9.957255  76.254022  \n",
      "4   682006         Kochi    Ernakulam    KERALA  9.917653  76.273265  \n"
     ]
    }
   ],
   "source": [
    "import pandas as pd\n",
    "\n",
    "district_df = pd.read_csv(\"./../../../dataset/district/district.csv\")\n",
    "exporters_df = pd.read_csv(\"./../../../dataset/pincode/exporters_with_yearly_data_and_location.csv\")\n",
    "\n",
    "merged_df = pd.merge(district_df, exporters_df[['Name', 'Address']], \n",
    "                     on='Address', how='inner')\n",
    "\n",
    "cols = ['Name'] + [col for col in merged_df.columns if col != 'Name']\n",
    "merged_df = merged_df[cols]\n",
    "\n",
    "print(merged_df.head(5))\n",
    "merged_df.to_csv('merged_district_with_names.csv', index=False)"
   ]
  },
  {
   "cell_type": "code",
   "execution_count": null,
   "metadata": {},
   "outputs": [],
   "source": []
  }
 ],
 "metadata": {
  "kernelspec": {
   "display_name": "Python 3",
   "language": "python",
   "name": "python3"
  },
  "language_info": {
   "codemirror_mode": {
    "name": "ipython",
    "version": 3
   },
   "file_extension": ".py",
   "mimetype": "text/x-python",
   "name": "python",
   "nbconvert_exporter": "python",
   "pygments_lexer": "ipython3",
   "version": "3.11.5"
  }
 },
 "nbformat": 4,
 "nbformat_minor": 2
}
