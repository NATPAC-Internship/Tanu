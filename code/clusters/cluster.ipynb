{
 "cells": [
  {
   "cell_type": "code",
   "execution_count": 20,
   "metadata": {},
   "outputs": [],
   "source": [
    "import pandas as pd\n",
    "from geopy.geocoders import Nominatim\n",
    "\n",
    "df = pd.read_csv('pin_modified.csv')"
   ]
  },
  {
   "cell_type": "code",
   "execution_count": 21,
   "metadata": {},
   "outputs": [
    {
     "name": "stdout",
     "output_type": "stream",
     "text": [
      "Coordinates for 800010: (25.6355579, 85.1101545)\n"
     ]
    }
   ],
   "source": [
    "from geopy.geocoders import Nominatim\n",
    "\n",
    "def get_coordinates(postal_code):\n",
    "    geolocator = Nominatim(user_agent='my_geocoder')\n",
    "    location = geolocator.geocode(postal_code)\n",
    "\n",
    "    if location:\n",
    "        return location.latitude, location.longitude\n",
    "    else:\n",
    "        return None"
   ]
  },
  {
   "cell_type": "code",
   "execution_count": 24,
   "metadata": {},
   "outputs": [],
   "source": [
    "start_row = 0\n",
    "end_row = 2613 \n",
    "\n",
    "\n",
    "df = pd.read_csv('pin_modified.csv', skiprows=range(1, start_row), nrows=end_row - start_row + 1)\n",
    "\n",
    "df['Latitude'] = ''\n",
    "df['Longitude'] = ''\n",
    "\n",
    "\n",
    "for index, row in df.iterrows():\n",
    "    postal_code = row['pincode']  \n",
    "    coordinates = get_coordinates(postal_code)\n",
    "    if coordinates:\n",
    "        df.at[index, 'Latitude'] = coordinates[0]\n",
    "    \n",
    "df.to_csv('coord.csv', index=False)"
   ]
  }
 ],
 "metadata": {
  "kernelspec": {
   "display_name": "Python 3",
   "language": "python",
   "name": "python3"
  },
  "language_info": {
   "codemirror_mode": {
    "name": "ipython",
    "version": 3
   },
   "file_extension": ".py",
   "mimetype": "text/x-python",
   "name": "python",
   "nbconvert_exporter": "python",
   "pygments_lexer": "ipython3",
   "version": "3.11.5"
  }
 },
 "nbformat": 4,
 "nbformat_minor": 2
}
